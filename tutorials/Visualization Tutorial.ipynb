{
 "cells": [
  {
   "cell_type": "code",
   "execution_count": 1,
   "metadata": {},
   "outputs": [],
   "source": [
    "# Logging setup\n",
    "import logging\n",
    "\n",
    "logging.basicConfig(level=logging.INFO)\n",
    "logging.getLogger().setLevel(level=logging.ERROR)\n",
    "logging.getLogger('orion').setLevel(level=logging.INFO)\n",
    "\n",
    "import warnings\n",
    "warnings.simplefilter(\"ignore\")\n",
    "\n",
    "import os"
   ]
  },
  {
   "cell_type": "markdown",
   "metadata": {},
   "source": [
    "## Creating an instance of the OrionDBExplorer\n",
    "\n",
    "In order to connect to the database, all you need to do is import and create an instance of the\n",
    "`OrionDBExplorer` class.\n",
    "\n",
    "Note that, because of the dynamic schema-less nature of MongoDB, no database initialization\n",
    "or table creation is needed. All you need to do start using a new database is create the\n",
    "`OrionDBExplorer` instance with the right connection details and start using it!\n",
    "\n",
    "In order to create the `OrionDBExplorer` instance you will need to pass:\n",
    "\n",
    "* `user`: An identifier of the user that is running Orion.\n",
    "* `database`: The name of the MongoDB database to use. This is optional and defaults to `orion`."
   ]
  },
  {
   "cell_type": "code",
   "execution_count": 2,
   "metadata": {},
   "outputs": [],
   "source": [
    "from orion.db import OrionDBExplorer\n",
    "\n",
    "orex = OrionDBExplorer(user='dyu', database='orion-vis')"
   ]
  },
  {
   "cell_type": "markdown",
   "metadata": {},
   "source": [
    "This will directly create a connection to the database named `'orion'` at the default\n",
    "MongoDB host, `localhost`, and port, `27017`.\n",
    "\n",
    "In case you wanted to connect to a different database, host or port, or in case user authentication\n",
    "is enabled in your MongoDB instance, you can pass a dictionary or a path to a JSON file containing\n",
    "any required additional arguments:\n",
    "\n",
    "* `host`: Hostname or IP address of the MongoDB Instance. Defaults to `'localhost'`.\n",
    "* `port`: Port to which MongoDB is listening. Defaults to `27017`.\n",
    "* `username`: username to authenticate with.\n",
    "* `password`: password to authenticate with.\n",
    "* `authentication_source`: database to authenticate against."
   ]
  },
  {
   "cell_type": "markdown",
   "metadata": {},
   "source": [
    "Once we have created the `OrionDBExplorer` instance, and to be sure that we are ready to follow\n",
    "the tutorial, let's do the following two set-up setps:"
   ]
  },
  {
   "cell_type": "markdown",
   "metadata": {},
   "source": [
    "1. Drop the `orion-usage-example` database\n",
    "\n",
    "**WARNING**: This will remove all the data that exists in this database!"
   ]
  },
  {
   "cell_type": "code",
   "execution_count": 3,
   "metadata": {},
   "outputs": [],
   "source": [
    "orex.drop_database()"
   ]
  },
  {
   "cell_type": "markdown",
   "metadata": {},
   "source": [
    "2. Make sure to have downloaded some demo data using the `orion.data.download_demo()` function"
   ]
  },
  {
   "cell_type": "code",
   "execution_count": 4,
   "metadata": {},
   "outputs": [
    {
     "name": "stderr",
     "output_type": "stream",
     "text": [
      "INFO:orion.data:Downloading Orion Demo Data to folder orion-data\n"
     ]
    }
   ],
   "source": [
    "from orion.data import download_demo\n",
    "\n",
    "download_demo()"
   ]
  },
  {
   "cell_type": "markdown",
   "metadata": {},
   "source": [
    "This will create a folder called `orion-data` in your current directory with the 3 CSV files\n",
    "that we will use later on."
   ]
  },
  {
   "cell_type": "markdown",
   "metadata": {},
   "source": [
    "## Setting up the Orion Environment\n",
    "\n",
    "The first thing that you will need to do to start using **Orion** with a Database will be\n",
    "to add information about your data and your pipelines.\n",
    "\n",
    "This can be done by using the methods of the `OrionDBExplorer` class that are documenteted below,\n",
    "which allow creating the corresponding objects in the Database.\n",
    "\n",
    "### Add a Dataset\n",
    "\n",
    "In order to add a dataset you can use the `add_dataset` method, which has the following arguments:\n",
    "\n",
    "* `name (str)`: Name of the dataset\n",
    "* `entity (str)`: Name or Id of the entity which this dataset is associated to\n",
    "\n",
    "Let's create the `Demo Dataset` that we will use for our demo."
   ]
  },
  {
   "cell_type": "code",
   "execution_count": 5,
   "metadata": {},
   "outputs": [],
   "source": [
    "dataset = orex.add_dataset(\n",
    "    name='nasa demo',\n",
    "    entity='Orion',\n",
    ")"
   ]
  },
  {
   "cell_type": "markdown",
   "metadata": {},
   "source": [
    "This call will try to create a new _Dataset_ object in the database and return it.\n",
    "\n",
    "We can now see the _Dataset_ that we just created using the `get_datasets` method:"
   ]
  },
  {
   "cell_type": "code",
   "execution_count": 6,
   "metadata": {},
   "outputs": [
    {
     "data": {
      "text/html": [
       "<div>\n",
       "<style scoped>\n",
       "    .dataframe tbody tr th:only-of-type {\n",
       "        vertical-align: middle;\n",
       "    }\n",
       "\n",
       "    .dataframe tbody tr th {\n",
       "        vertical-align: top;\n",
       "    }\n",
       "\n",
       "    .dataframe thead th {\n",
       "        text-align: right;\n",
       "    }\n",
       "</style>\n",
       "<table border=\"1\" class=\"dataframe\">\n",
       "  <thead>\n",
       "    <tr style=\"text-align: right;\">\n",
       "      <th></th>\n",
       "      <th>dataset_id</th>\n",
       "      <th>created_by</th>\n",
       "      <th>entity</th>\n",
       "      <th>insert_time</th>\n",
       "      <th>name</th>\n",
       "    </tr>\n",
       "  </thead>\n",
       "  <tbody>\n",
       "    <tr>\n",
       "      <th>0</th>\n",
       "      <td>61842df84c3fefe0d137ebde</td>\n",
       "      <td>dyu</td>\n",
       "      <td>Orion</td>\n",
       "      <td>2021-11-04 19:01:11.864</td>\n",
       "      <td>nasa demo</td>\n",
       "    </tr>\n",
       "  </tbody>\n",
       "</table>\n",
       "</div>"
      ],
      "text/plain": [
       "                 dataset_id created_by entity             insert_time  \\\n",
       "0  61842df84c3fefe0d137ebde        dyu  Orion 2021-11-04 19:01:11.864   \n",
       "\n",
       "        name  \n",
       "0  nasa demo  "
      ]
     },
     "execution_count": 6,
     "metadata": {},
     "output_type": "execute_result"
    }
   ],
   "source": [
    "orex.get_datasets()"
   ]
  },
  {
   "cell_type": "markdown",
   "metadata": {},
   "source": [
    "### Add Signals"
   ]
  },
  {
   "cell_type": "markdown",
   "metadata": {},
   "source": [
    "Additionally, we can also add all the signals that exist inside a folder by using the `add_signals`\n",
    "method, passing a `signals_path`:"
   ]
  },
  {
   "cell_type": "code",
   "execution_count": 7,
   "metadata": {},
   "outputs": [],
   "source": [
    "orex.add_signals(\n",
    "    dataset=dataset,\n",
    "    signals_path='orion-data'\n",
    ")"
   ]
  },
  {
   "cell_type": "markdown",
   "metadata": {},
   "source": [
    "After this is done, we can see that one signal has been created for each one of the CSV\n",
    "files that we downloaded before."
   ]
  },
  {
   "cell_type": "code",
   "execution_count": 9,
   "metadata": {},
   "outputs": [
    {
     "data": {
      "text/html": [
       "<div>\n",
       "<style scoped>\n",
       "    .dataframe tbody tr th:only-of-type {\n",
       "        vertical-align: middle;\n",
       "    }\n",
       "\n",
       "    .dataframe tbody tr th {\n",
       "        vertical-align: top;\n",
       "    }\n",
       "\n",
       "    .dataframe thead th {\n",
       "        text-align: right;\n",
       "    }\n",
       "</style>\n",
       "<table border=\"1\" class=\"dataframe\">\n",
       "  <thead>\n",
       "    <tr style=\"text-align: right;\">\n",
       "      <th></th>\n",
       "      <th>signal_id</th>\n",
       "      <th>created_by</th>\n",
       "      <th>data_location</th>\n",
       "      <th>dataset</th>\n",
       "      <th>insert_time</th>\n",
       "      <th>name</th>\n",
       "      <th>start_time</th>\n",
       "      <th>stop_time</th>\n",
       "    </tr>\n",
       "  </thead>\n",
       "  <tbody>\n",
       "    <tr>\n",
       "      <th>0</th>\n",
       "      <td>618421ce99b30d280a424110</td>\n",
       "      <td>dyu</td>\n",
       "      <td>orion-data/S-1.csv</td>\n",
       "      <td>6184219b99b30d280a42410f</td>\n",
       "      <td>2021-11-04 18:09:18.243</td>\n",
       "      <td>S-1</td>\n",
       "      <td>1222819200</td>\n",
       "      <td>1442016000</td>\n",
       "    </tr>\n",
       "    <tr>\n",
       "      <th>1</th>\n",
       "      <td>618421de99b30d280a424112</td>\n",
       "      <td>dyu</td>\n",
       "      <td>orion-data/P-1.csv</td>\n",
       "      <td>6184219b99b30d280a42410f</td>\n",
       "      <td>2021-11-04 18:09:34.965</td>\n",
       "      <td>P-1</td>\n",
       "      <td>1222819200</td>\n",
       "      <td>1468540800</td>\n",
       "    </tr>\n",
       "    <tr>\n",
       "      <th>2</th>\n",
       "      <td>618421de99b30d280a424113</td>\n",
       "      <td>dyu</td>\n",
       "      <td>orion-data/E-1.csv</td>\n",
       "      <td>6184219b99b30d280a42410f</td>\n",
       "      <td>2021-11-04 18:09:34.978</td>\n",
       "      <td>E-1</td>\n",
       "      <td>1222819200</td>\n",
       "      <td>1468951200</td>\n",
       "    </tr>\n",
       "  </tbody>\n",
       "</table>\n",
       "</div>"
      ],
      "text/plain": [
       "                  signal_id created_by       data_location  \\\n",
       "0  618421ce99b30d280a424110        dyu  orion-data/S-1.csv   \n",
       "1  618421de99b30d280a424112        dyu  orion-data/P-1.csv   \n",
       "2  618421de99b30d280a424113        dyu  orion-data/E-1.csv   \n",
       "\n",
       "                    dataset             insert_time name  start_time  \\\n",
       "0  6184219b99b30d280a42410f 2021-11-04 18:09:18.243  S-1  1222819200   \n",
       "1  6184219b99b30d280a42410f 2021-11-04 18:09:34.965  P-1  1222819200   \n",
       "2  6184219b99b30d280a42410f 2021-11-04 18:09:34.978  E-1  1222819200   \n",
       "\n",
       "    stop_time  \n",
       "0  1442016000  \n",
       "1  1468540800  \n",
       "2  1468951200  "
      ]
     },
     "execution_count": 9,
     "metadata": {},
     "output_type": "execute_result"
    }
   ],
   "source": [
    "orex.get_signals(dataset=dataset)"
   ]
  },
  {
   "cell_type": "markdown",
   "metadata": {},
   "source": [
    "### Add a Template\n",
    "\n",
    "The next thing we need to add is a _Template_ to the Database using the `add_template` method.\n",
    "\n",
    "This method expects:\n",
    "\n",
    "* `name (str)`: Name of the template.\n",
    "* `template (dict or str)`: Optional. Specification of the template to use, which can be one of:\n",
    "    * An MLPipeline instance\n",
    "    * The name of a registered template\n",
    "    * a dict containing the MLPipeline details\n",
    "    * The path to a pipeline JSON file.\n",
    "    \n",
    "**Orion** comes with a few templates ready to be used, so let's have a look at the ones that exist\n",
    "using the `orion.get_available_templates` function."
   ]
  },
  {
   "cell_type": "code",
   "execution_count": 8,
   "metadata": {},
   "outputs": [
    {
     "data": {
      "text/plain": [
       "['azure',\n",
       " 'arima',\n",
       " 'dense_autoencoder',\n",
       " 'tadgan',\n",
       " 'lstm_autoencoder',\n",
       " 'lstm_dynamic_threshold',\n",
       " 'dummy']"
      ]
     },
     "execution_count": 8,
     "metadata": {},
     "output_type": "execute_result"
    }
   ],
   "source": [
    "from orion.analysis import get_available_templates\n",
    "\n",
    "get_available_templates()"
   ]
  },
  {
   "cell_type": "markdown",
   "metadata": {},
   "source": [
    "And now let's create a _Template_ using the `lstm_dynamic_threshold` template."
   ]
  },
  {
   "cell_type": "code",
   "execution_count": 9,
   "metadata": {},
   "outputs": [
    {
     "name": "stdout",
     "output_type": "stream",
     "text": [
      "/Users/dyu/Projects/dai_sintel/orion/orion/pipelines/verified/lstm_dynamic_threshold/lstm_dynamic_threshold_vis.json\n"
     ]
    }
   ],
   "source": [
    "import os\n",
    "file = os.path.abspath('../orion/pipelines/verified/lstm_dynamic_threshold/lstm_dynamic_threshold_vis.json')\n",
    "\n",
    "print(file)"
   ]
  },
  {
   "cell_type": "code",
   "execution_count": 10,
   "metadata": {},
   "outputs": [
    {
     "name": "stderr",
     "output_type": "stream",
     "text": [
      "Using TensorFlow backend.\n"
     ]
    }
   ],
   "source": [
    "template = orex.add_template(\n",
    "    name='lstmdt',\n",
    "    template=file,\n",
    ")"
   ]
  },
  {
   "cell_type": "markdown",
   "metadata": {},
   "source": [
    "We can now see the _Template_ that we just created"
   ]
  },
  {
   "cell_type": "markdown",
   "metadata": {},
   "source": [
    "Also, during this step, apart from a _Template_ object, a _Pipeline_ object has also been\n",
    "registred with the same name as the _Template_ and using the default hyperparameter values."
   ]
  },
  {
   "cell_type": "markdown",
   "metadata": {},
   "source": [
    "However, if we want to use a configuration different from the default, we might want to\n",
    "create another _Pipeline_ with custom hyperparameter values.\n",
    "\n",
    "In order to do this we will need to call the `add_pipeline` method passing:\n",
    "\n",
    "* `name (str)`: Name given to this pipeline\n",
    "* `template (Template or ObjectID)`: Template or the corresponding id.\n",
    "* `hyperparameters (dict or str)`: dict containing the hyperparameter details or path to the\n",
    "  corresponding JSON file. Optional.\n",
    "\n",
    "For example, if we want to specify a different number of epochs for the LSTM primitive of the\n",
    "pipeline that we just created we will run:"
   ]
  },
  {
   "cell_type": "code",
   "execution_count": 12,
   "metadata": {},
   "outputs": [],
   "source": [
    "new_hyperparameters = {\n",
    "   'keras.Sequential.LSTMTimeSeriesRegressor#1': {\n",
    "       'epochs': 1,\n",
    "       'verbose': True\n",
    "   }\n",
    "}\n",
    "pipeline = orex.add_pipeline(\n",
    "   name='lstmdt_1_epoch',\n",
    "   template=template,\n",
    "   hyperparameters=new_hyperparameters,\n",
    ")"
   ]
  },
  {
   "cell_type": "markdown",
   "metadata": {},
   "source": [
    "And we can see how a new _Pipeline_ was created in the Database."
   ]
  },
  {
   "cell_type": "code",
   "execution_count": 13,
   "metadata": {},
   "outputs": [
    {
     "data": {
      "text/html": [
       "<div>\n",
       "<style scoped>\n",
       "    .dataframe tbody tr th:only-of-type {\n",
       "        vertical-align: middle;\n",
       "    }\n",
       "\n",
       "    .dataframe tbody tr th {\n",
       "        vertical-align: top;\n",
       "    }\n",
       "\n",
       "    .dataframe thead th {\n",
       "        text-align: right;\n",
       "    }\n",
       "</style>\n",
       "<table border=\"1\" class=\"dataframe\">\n",
       "  <thead>\n",
       "    <tr style=\"text-align: right;\">\n",
       "      <th></th>\n",
       "      <th>pipeline_id</th>\n",
       "      <th>created_by</th>\n",
       "      <th>insert_time</th>\n",
       "      <th>name</th>\n",
       "      <th>template</th>\n",
       "    </tr>\n",
       "  </thead>\n",
       "  <tbody>\n",
       "    <tr>\n",
       "      <th>0</th>\n",
       "      <td>61842e444c3fefe0d137ebe3</td>\n",
       "      <td>dyu</td>\n",
       "      <td>2021-11-04 19:02:28.677</td>\n",
       "      <td>lstmdt</td>\n",
       "      <td>61842e444c3fefe0d137ebe2</td>\n",
       "    </tr>\n",
       "    <tr>\n",
       "      <th>1</th>\n",
       "      <td>61842e524c3fefe0d137ebe4</td>\n",
       "      <td>dyu</td>\n",
       "      <td>2021-11-04 19:02:42.599</td>\n",
       "      <td>lstmdt_1_epoch</td>\n",
       "      <td>61842e444c3fefe0d137ebe2</td>\n",
       "    </tr>\n",
       "  </tbody>\n",
       "</table>\n",
       "</div>"
      ],
      "text/plain": [
       "                pipeline_id created_by             insert_time  \\\n",
       "0  61842e444c3fefe0d137ebe3        dyu 2021-11-04 19:02:28.677   \n",
       "1  61842e524c3fefe0d137ebe4        dyu 2021-11-04 19:02:42.599   \n",
       "\n",
       "             name                  template  \n",
       "0          lstmdt  61842e444c3fefe0d137ebe2  \n",
       "1  lstmdt_1_epoch  61842e444c3fefe0d137ebe2  "
      ]
     },
     "execution_count": 13,
     "metadata": {},
     "output_type": "execute_result"
    }
   ],
   "source": [
    "orex.get_pipelines()"
   ]
  },
  {
   "cell_type": "markdown",
   "metadata": {},
   "source": [
    "### Add an Experiment\n",
    "\n",
    "Once we have a _Dataset_ with _Signals_ and a _Template_, we are ready to add an\n",
    "_Experiment_.\n",
    "\n",
    "In order to run an _Experiment_ we will need to:\n",
    "\n",
    "1. Get the _Dataset_ and the list of _Signals_ that we want to run the _Experiment_ on.\n",
    "2. Get the _Template_ which we want to use for the _Experiment_\n",
    "3. Call the `add_experiment` method passing all these with an experiment, a project name and a\n",
    "   username.\n",
    "\n",
    "For example, if we want to create an experiment using the _Dataset_, the _Signals_ and the\n",
    "_Template_ that we just created, we will use:"
   ]
  },
  {
   "cell_type": "code",
   "execution_count": 14,
   "metadata": {},
   "outputs": [],
   "source": [
    "experiment = orex.add_experiment(\n",
    "    name='My Experiment',\n",
    "    project='My Project',\n",
    "    template=template,\n",
    "    dataset=dataset,\n",
    ")"
   ]
  },
  {
   "cell_type": "markdown",
   "metadata": {},
   "source": [
    "This will create an _Experiment_ object in the database using the indicated _Template_\n",
    "and all the _Signals_ from the given _Dataset_."
   ]
  },
  {
   "cell_type": "code",
   "execution_count": 15,
   "metadata": {},
   "outputs": [
    {
     "data": {
      "text/html": [
       "<div>\n",
       "<style scoped>\n",
       "    .dataframe tbody tr th:only-of-type {\n",
       "        vertical-align: middle;\n",
       "    }\n",
       "\n",
       "    .dataframe tbody tr th {\n",
       "        vertical-align: top;\n",
       "    }\n",
       "\n",
       "    .dataframe thead th {\n",
       "        text-align: right;\n",
       "    }\n",
       "</style>\n",
       "<table border=\"1\" class=\"dataframe\">\n",
       "  <thead>\n",
       "    <tr style=\"text-align: right;\">\n",
       "      <th></th>\n",
       "      <th>experiment_id</th>\n",
       "      <th>created_by</th>\n",
       "      <th>dataset</th>\n",
       "      <th>insert_time</th>\n",
       "      <th>name</th>\n",
       "      <th>project</th>\n",
       "      <th>signals</th>\n",
       "      <th>template</th>\n",
       "    </tr>\n",
       "  </thead>\n",
       "  <tbody>\n",
       "    <tr>\n",
       "      <th>0</th>\n",
       "      <td>61842e5a4c3fefe0d137ebe5</td>\n",
       "      <td>dyu</td>\n",
       "      <td>61842df84c3fefe0d137ebde</td>\n",
       "      <td>2021-11-04 19:02:50.294</td>\n",
       "      <td>My Experiment</td>\n",
       "      <td>My Project</td>\n",
       "      <td>[61842e0d4c3fefe0d137ebdf, 61842e0d4c3fefe0d13...</td>\n",
       "      <td>61842e444c3fefe0d137ebe2</td>\n",
       "    </tr>\n",
       "  </tbody>\n",
       "</table>\n",
       "</div>"
      ],
      "text/plain": [
       "              experiment_id created_by                   dataset  \\\n",
       "0  61842e5a4c3fefe0d137ebe5        dyu  61842df84c3fefe0d137ebde   \n",
       "\n",
       "              insert_time           name     project  \\\n",
       "0 2021-11-04 19:02:50.294  My Experiment  My Project   \n",
       "\n",
       "                                             signals                  template  \n",
       "0  [61842e0d4c3fefe0d137ebdf, 61842e0d4c3fefe0d13...  61842e444c3fefe0d137ebe2  "
      ]
     },
     "execution_count": 15,
     "metadata": {},
     "output_type": "execute_result"
    }
   ],
   "source": [
    "orex.get_experiments()"
   ]
  },
  {
   "cell_type": "markdown",
   "metadata": {},
   "source": [
    "## Starting a Datarun\n",
    "\n",
    "Once we have created our _Experiment_ object we are ready to start executing _Pipelines_ on our\n",
    "_Signals_.\n",
    "\n",
    "For this we will need to use the `orion.runner.start_datarun` function, which expects:\n",
    "\n",
    "* `orex (OrionExplorer)`: The `OrionDBExplorer` instance.\n",
    "* `experiment (Experiment or ObjectID)`: Experiment object or the corresponding ID.\n",
    "* `pipeline (Pipeline or ObjectID)`: Pipeline object or the corresponding ID.\n",
    "\n",
    "This will create a _Datarun_ object for this _Experiment_ and _Pipeline_ in the database,\n",
    "and then it will start creating and executing _Signalruns_, one for each _Signal_ in the _Experiment_."
   ]
  },
  {
   "cell_type": "markdown",
   "metadata": {},
   "source": [
    "Let's trigger a _Datarun_ using the `lstmdt_1_epoch` _Pipeline_ that we created."
   ]
  },
  {
   "cell_type": "code",
   "execution_count": 16,
   "metadata": {},
   "outputs": [
    {
     "name": "stderr",
     "output_type": "stream",
     "text": [
      "INFO:orion.runner:Datarun 61842e634c3fefe0d137ebe6 started\n",
      "INFO:orion.runner:Signalrun 61842e644c3fefe0d137ebe7 started\n",
      "INFO:orion.runner:Running pipeline lstmdt_1_epoch on signal S-1\n"
     ]
    },
    {
     "name": "stdout",
     "output_type": "stream",
     "text": [
      "a\n",
      "Train on 7919 samples, validate on 1980 samples\n",
      "Epoch 1/1\n",
      "7919/7919 [==============================] - 30s 4ms/step - loss: 0.1957 - mse: 0.1957 - val_loss: 0.2724 - val_mse: 0.2724\n",
      "9899/9899 [==============================] - 11s 1ms/step\n"
     ]
    },
    {
     "name": "stderr",
     "output_type": "stream",
     "text": [
      "INFO:orion.runner:Processing pipeline lstmdt_1_epoch predictions on signal S-1\n",
      "INFO:orion.runner:Signalrun 61842e924c3fefe0d137ebf7 started\n",
      "INFO:orion.runner:Running pipeline lstmdt_1_epoch on signal P-1\n"
     ]
    },
    {
     "name": "stdout",
     "output_type": "stream",
     "text": [
      "a\n",
      "Train on 8901 samples, validate on 2226 samples\n",
      "Epoch 1/1\n",
      "8901/8901 [==============================] - 99s 11ms/step - loss: 0.0932 - mse: 0.0932 - val_loss: 0.0531 - val_mse: 0.0531\n",
      "11127/11127 [==============================] - 16s 1ms/step\n"
     ]
    },
    {
     "name": "stderr",
     "output_type": "stream",
     "text": [
      "INFO:orion.runner:Processing pipeline lstmdt_1_epoch predictions on signal P-1\n",
      "INFO:orion.runner:Signalrun 61842f0a4c3fefe0d137ec06 started\n",
      "INFO:orion.runner:Running pipeline lstmdt_1_epoch on signal E-1\n"
     ]
    },
    {
     "name": "stdout",
     "output_type": "stream",
     "text": [
      "a\n",
      "Train on 8916 samples, validate on 2230 samples\n",
      "Epoch 1/1\n",
      "8916/8916 [==============================] - 86s 10ms/step - loss: 0.2537 - mse: 0.2537 - val_loss: 0.1509 - val_mse: 0.1509\n",
      "11146/11146 [==============================] - 30s 3ms/step\n"
     ]
    },
    {
     "name": "stderr",
     "output_type": "stream",
     "text": [
      "INFO:orion.runner:Processing pipeline lstmdt_1_epoch predictions on signal E-1\n"
     ]
    }
   ],
   "source": [
    "from orion.runner import start_datarun\n",
    "\n",
    "start_datarun(orex, experiment, pipeline)"
   ]
  },
  {
   "cell_type": "markdown",
   "metadata": {},
   "source": [
    "## Launch Sintel — the python server providing RESTful APIs  \n",
    "\n",
    "https://github.com/sintel-dev/sintel\n",
    "\n",
    "\n",
    "- step1: install\n",
    "- step2: go data section and upgrade ORION db to sintel db\n",
    "- step3: run server"
   ]
  },
  {
   "cell_type": "markdown",
   "metadata": {},
   "source": [
    "## Launch MTV\n",
    "\n",
    "https://github.com/sintel-dev/MTV\n",
    "\n",
    "- step1: go client folder and run `npm install`\n",
    "- step2: "
   ]
  },
  {
   "cell_type": "code",
   "execution_count": null,
   "metadata": {},
   "outputs": [],
   "source": []
  }
 ],
 "metadata": {
  "kernelspec": {
   "display_name": "Python 3",
   "language": "python",
   "name": "python3"
  },
  "language_info": {
   "codemirror_mode": {
    "name": "ipython",
    "version": 3
   },
   "file_extension": ".py",
   "mimetype": "text/x-python",
   "name": "python",
   "nbconvert_exporter": "python",
   "pygments_lexer": "ipython3",
   "version": "3.8.5"
  }
 },
 "nbformat": 4,
 "nbformat_minor": 4
}
